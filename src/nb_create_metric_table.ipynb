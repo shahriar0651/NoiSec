{
 "cells": [
  {
   "cell_type": "code",
   "execution_count": null,
   "metadata": {},
   "outputs": [],
   "source": [
    "import pandas as pd\n",
    "import numpy as np\n",
    "import glob\n",
    "from pathlib import Path\n",
    "from matplotlib import pyplot as plt\n",
    "import seaborn as sns"
   ]
  },
  {
   "cell_type": "code",
   "execution_count": null,
   "metadata": {},
   "outputs": [],
   "source": [
    "results_dir = f\"../artifacts/results/\"\n",
    "\n",
    "list_of_datasets = ['fashion', 'cifar10', 'gtsrb',  'medmnist', 'speech', 'activity'] #'robofi', \n",
    "\n",
    "black_box_list = [\"True\", \"False\"]\n",
    "black_box_name_list = {\"True\" : \"Black-box\", \"False\" : \"White-box\"}\n",
    "\n",
    "\n",
    "list_of_detectors = ['MagNet_JSD', 'MagNet_L1', 'Manda', 'Artifacts', 'KNN', 'KNN_L1', 'GMM', 'STD', 'Max']\n",
    "list_of_detectors = ['MagNet_JSD', 'Artifacts',  'Manda',  'GMM']\n",
    "list_of_adv_attacks = ['FGSM', 'PGD', 'BIM',  'UAP', 'Square', ] \n",
    "list_of_bck_attacks = ['BadNet']\n",
    "\n",
    "attack_type_list = [\"adversarial\"] #, \"backdoor\"]\n",
    "eval_type_list = [0] \n",
    "eval_type_name_list = [\"All\"] #, \"Strong\", \"Weak\"]\n"
   ]
  },
  {
   "cell_type": "code",
   "execution_count": null,
   "metadata": {},
   "outputs": [],
   "source": [
    "def get_result_dir(dataset):\n",
    "    if dataset == 'mnist':\n",
    "        result_dir = f\"{results_dir}/{dataset}/Feat_False_128_CAE_cnn_256_3_0.5_False\"\n",
    "    if dataset == 'fashion':\n",
    "        result_dir = f\"{results_dir}/{dataset}/Feat_False_128_CAE_cnn_256_3_0.5_False\"\n",
    "    if dataset == 'cifar10':\n",
    "        result_dir = f\"{results_dir}/{dataset}/Feat_False_256_CAE_cnn_1024_4_0.1_False\"\n",
    "    if dataset == 'gtsrb':\n",
    "        result_dir = f\"{results_dir}/{dataset}/Feat_False_256_CAE_cnn_1024_5_0.1_False\"\n",
    "    if dataset == 'speech':\n",
    "        result_dir = f\"{results_dir}/{dataset}/Feat_False_1024_CAE_cnn_256_3_0.1_False\"\n",
    "    if dataset == 'robofi':\n",
    "        result_dir = f\"{results_dir}/{dataset}/Feat_False_512_CAE_cnn_1024_4_0.05_False\"\n",
    "    if dataset == 'medmnist':\n",
    "        result_dir = f\"{results_dir}/{dataset}/Feat_False_128_CAE_cnn_1024_3_0.1_False\"\n",
    "    if dataset == 'activity':\n",
    "        result_dir = f\"{results_dir}/{dataset}/Feat_False_512_CAE_cnn_1024_4_0.05_False\"\n",
    "    return result_dir\n",
    "\n"
   ]
  },
  {
   "cell_type": "code",
   "execution_count": null,
   "metadata": {},
   "outputs": [],
   "source": [
    "df_total = pd.DataFrame([])\n",
    "\n",
    "for dataset in list_of_datasets:\n",
    "    for black_box in black_box_list:\n",
    "        for attack_type in attack_type_list:\n",
    "             for eval_type in eval_type_list:\n",
    "                # print(dataset, black_box)\n",
    "                result_dir = get_result_dir(dataset)\n",
    "                detection_dir = f\"{result_dir}/detection/final_scores_{attack_type}_{black_box}_{eval_type}_BenPerturb_100_1.csv\"\n",
    "                try:\n",
    "                    df = pd.read_csv(detection_dir, index_col=0)\n",
    "                    df['BlackBox'] = black_box_name_list[black_box]\n",
    "                    df['Dataset'] = dataset\n",
    "                    df[\"attack_type\"] = attack_type\n",
    "                    df[\"eval_type\"] = eval_type_name_list[eval_type]\n",
    "                    df_total = pd.concat([df_total, df], axis=0)\n",
    "                    # print(\"File loaded at: \", detection_dir)\n",
    "\n",
    "                except Exception as e:\n",
    "                    print(e)\n",
    "                # print(df_total.shape)"
   ]
  },
  {
   "cell_type": "code",
   "execution_count": null,
   "metadata": {},
   "outputs": [],
   "source": [
    "# col_of_interest = ['Detector', \n",
    "#        'Attack', 'AUROC', 'AUPRC', 'Precision', 'Recall', 'FPR',\n",
    "#        'F1Score', 'BlackBox', 'Dataset', 'attack_type', 'eval_type']\n",
    "col_of_interest = ['Detector', \n",
    "       'Attack', 'AUROC', 'BlackBox', 'Dataset', 'attack_type', 'eval_type']\n",
    "df_total = df_total[col_of_interest]\n",
    "df_total.head(-10)"
   ]
  },
  {
   "cell_type": "code",
   "execution_count": null,
   "metadata": {},
   "outputs": [],
   "source": [
    "filter_detector = df_total['Detector'].isin(list_of_detectors)\n",
    "filter_attack = df_total['Attack'].isin(list_of_adv_attacks)\n",
    "df_clear = df_total.where(filter_attack & filter_detector).dropna()\n",
    "df_clear.head(10)"
   ]
  },
  {
   "cell_type": "code",
   "execution_count": null,
   "metadata": {},
   "outputs": [],
   "source": [
    "attack_type = 'adversarial' # Adversarial attack\n",
    "eval_type = \"All\" #\"Strong\" # Successful\n",
    "BlackBox = \"Whitebox\"\n",
    "dataset = 'mnist'\n",
    "df_clear"
   ]
  },
  {
   "cell_type": "code",
   "execution_count": null,
   "metadata": {},
   "outputs": [],
   "source": [
    "\n",
    "filter_1 = df_clear[\"attack_type\"] == attack_type\n",
    "filter_2 = df_clear[\"eval_type\"] == \"All\"\n",
    "# filter_2 = df_clear[\"eval_type\"] != \"Weak\"\n",
    "# filter_3 = df_clear[\"BlackBox\"] == BlackBox\n",
    "df_cut = df_clear.where(filter_1 & filter_2).dropna()\n",
    "#df_cut = df_clear.where(filter_3).dropna()\n",
    "df_cut"
   ]
  },
  {
   "cell_type": "code",
   "execution_count": null,
   "metadata": {},
   "outputs": [],
   "source": [
    "merged_result = pd.DataFrame([])\n",
    "for dataset in list_of_datasets:\n",
    "    for detector in list_of_detectors:\n",
    "        for blackbox in list(black_box_name_list.values())[::-1]:\n",
    "            # for eval_type in ['Strong', 'Weak']:\n",
    "            for eval_type in ['All']:\n",
    "                for attack in list_of_adv_attacks:\n",
    "                    # print(f\"{dataset[0]}_{detector}_{attack}_{eval_type}_{blackbox[0]}\")                \n",
    "                    try:\n",
    "                        auroc = df_cut[df_cut[\"Detector\"] == detector]\n",
    "                        auroc = auroc[auroc[\"BlackBox\"] == blackbox]\n",
    "                        auroc = auroc[auroc[\"Attack\"] == attack]\n",
    "                        auroc = auroc[auroc[\"Dataset\"] == dataset]\n",
    "                        auroc = auroc[auroc[\"eval_type\"] == eval_type]\n",
    "                        auroc = round(auroc['AUROC'].values[0],2)\n",
    "                        auroc = \"{:0.2f}\".format(auroc)\n",
    "                    except IndexError:\n",
    "                        auroc = \"-0.01\"\n",
    "                    attack = attack.replace(\"&\", '')\n",
    "                    merged_result.loc[f\"{dataset[0:5]}-{detector}\", f\"{attack}-{eval_type[0]}-{blackbox[0]}\"] = auroc\n",
    "merged_result\n"
   ]
  },
  {
   "cell_type": "code",
   "execution_count": null,
   "metadata": {},
   "outputs": [],
   "source": [
    "filtered_indices = merged_result.index.str.contains(r'GMM', regex=True)\n",
    "filtered_indices"
   ]
  },
  {
   "cell_type": "code",
   "execution_count": null,
   "metadata": {},
   "outputs": [],
   "source": [
    "import seaborn as sns\n",
    "plt.figure(figsize=(10, 7.5))\n",
    "sns.heatmap(merged_result.astype(float), annot=True, fmt='0.2f', cmap=\"RdYlGn\")\n",
    "plt.show()"
   ]
  },
  {
   "cell_type": "code",
   "execution_count": null,
   "metadata": {},
   "outputs": [],
   "source": [
    "print(df.to_latex())\n",
    "table_text = df.to_latex()"
   ]
  },
  {
   "cell_type": "code",
   "execution_count": null,
   "metadata": {},
   "outputs": [],
   "source": [
    "replacements = {\n",
    "    \"fashion\": \"F-MNIST\", \n",
    "    \"mnist\": \"MNIST\", \n",
    "    \"cifar10\": \"CIFAR-10\", \n",
    "    \"gtsrb\": \"GTSRB\", \n",
    "    \"speech\": \"Speech\", \n",
    "    \"medmnist\" : \"Med-MNIST\", \n",
    "    \"MagNet_JSD\": \"MagNet\",\n",
    "    \"activity\": \"Activity\",\n",
    "    \"GMM\": \"\\sysname\",\n",
    "    }\n"
   ]
  },
  {
   "cell_type": "code",
   "execution_count": null,
   "metadata": {},
   "outputs": [],
   "source": [
    "for dataset_ext in list_of_datasets:\n",
    "    print(rf\"\\hline\\hline\")\n",
    "    print(rf\"\\multirow{{5}}{{*}}{{\\rotatebox{{90}}{{{replacements[dataset_ext]}}}}}\")\n",
    "            # print(dataset_ext)\n",
    "    for lines in table_text.split(\"\\n\"):\n",
    "\n",
    "        if dataset_ext[0:5] in lines:\n",
    "            lines=lines.replace(dataset_ext[0:5]+\"-\", \" & \")\n",
    "            for key, val in replacements.items():\n",
    "                lines = lines.replace(key, val)\n",
    "            print(lines)\n"
   ]
  },
  {
   "cell_type": "markdown",
   "metadata": {},
   "source": [
    "# Create Attack Data"
   ]
  },
  {
   "cell_type": "code",
   "execution_count": null,
   "metadata": {},
   "outputs": [],
   "source": [
    "dataset_dict = {\"mnist\" : \"MNIST\",\n",
    "                \"fashion\" : \"F-MNIST\",\n",
    "                \"cifar10\" : \"CIFAR-10\",\n",
    "                \"gtsrb\" : \"GTSRB\",\n",
    "                \"activity\" : \"Activity\",\n",
    "                \"speech\" : \"Speech\",\n",
    "                \"medmnist\" : \"Med-MNIST\",}"
   ]
  },
  {
   "cell_type": "code",
   "execution_count": null,
   "metadata": {},
   "outputs": [],
   "source": [
    "\n",
    "df_total = pd.DataFrame([])\n",
    "\n",
    "for dataset in list_of_datasets:\n",
    "    for black_box in ['White-box', 'Black-box']:\n",
    "        print(dataset, black_box)\n",
    "        result_dir = get_result_dir(dataset)\n",
    "        detection_dir = f\"{result_dir}/data/attack_gen_acc_norm_{black_box}_clean.csv\"\n",
    "        try:\n",
    "            df = pd.read_csv(detection_dir, index_col=0)\n",
    "            df['ASR'] = 100 - df['Acc']\n",
    "            df = df.reset_index(drop=True)\n",
    "            df['Dataset'] = dataset\n",
    "            df['Access'] = black_box\n",
    "            df_total = pd.concat([df_total, df], axis=0)\n",
    "            # print(\"File loaded at: \", detection_dir)\n",
    "        except Exception as e:\n",
    "            print(e)\n",
    "        \n",
    "df_total = df_total.rename(columns={\"L2\" : \"L2 Norm\", \"Acc\" : \"Accuracy\"})\n",
    "df_total"
   ]
  },
  {
   "cell_type": "code",
   "execution_count": null,
   "metadata": {},
   "outputs": [],
   "source": []
  },
  {
   "cell_type": "code",
   "execution_count": null,
   "metadata": {},
   "outputs": [],
   "source": [
    "df_total = df_total.replace(\"medmnist\", \"Med-MNIST\")\n",
    "df_total.replace(dataset_dict, inplace= True)\n",
    "print(df_total[['ASR', 'Attack', 'Dataset', 'Access']])"
   ]
  },
  {
   "cell_type": "code",
   "execution_count": null,
   "metadata": {},
   "outputs": [],
   "source": [
    "filter_1 = df_total['Attack'] != 'RN'\n",
    "filter_2 = df_total['Attack'] != 'C&W'\n",
    "df_total = df_total.where(filter_1 & filter_2).dropna()\n",
    "df_total"
   ]
  },
  {
   "cell_type": "code",
   "execution_count": null,
   "metadata": {},
   "outputs": [],
   "source": [
    "plt.figure(figsize=(20,3))\n",
    "# g = sns.catplot(data=df_total, col=\"Dataset\", x=\"Attack\", y=\"ASR\", \n",
    "#                 hue=\"Access\", hue_order=['White-box', 'Black-box'], \n",
    "#                 kind='bar', aspect=1.25, height=2, ci=None)\n",
    "\n",
    "g = sns.catplot(data=df_total, col=\"Dataset\", x=\"Attack\", y=\"ASR\", \n",
    "            hue=\"Access\", hue_order=['White-box', 'Black-box'], \n",
    "            kind='bar', aspect=1.05, height=2.50, errorbar=None, \n",
    "            # palette={'White-box': 'gray', 'Black-box': 'black'})  # Define colors for each hue\n",
    "            # palette={'White-box': 'darkblue', 'Black-box': 'lightblue'})\n",
    "            palette={'White-box': 'lightcoral', 'Black-box': 'darkred'})  # Dark and light red shades\n",
    "\n",
    "# Add a dark boundary to the bars\n",
    "for ax in g.axes.flat:  # Iterate over each subplot\n",
    "    for patch in ax.patches:  # Iterate over each bar\n",
    "        patch.set_edgecolor('black')  # Set the boundary color\n",
    "        patch.set_linewidth(0.50)      # Set the boundary thickness\n",
    "\n",
    "# Add horizontal lines\n",
    "for ax in g.axes.flat:  # Iterate over each subplot\n",
    "    ax.yaxis.grid(True)  # Enable horizontal grid lines\n",
    "    # ax.axhline(0, color='black', linewidth=0.25)  # Optionally add a line at y=0 (x-axis)\n",
    "\n",
    "\n",
    "g.set_axis_labels(\"ASR\", \"Attack\")  # Customize axis labels if needed\n",
    "# g.despine(left=True)  # Remove the left spine\n",
    "g.set_titles(\"{col_name}\")  # Optional: Title formatting for columns\n",
    "# g.map(plt.grid, True)  # Enable gridlines\n",
    "\n",
    "\n",
    "# plt.tight_layout()\n",
    "plot_dir = Path(f\"../artifacts/plots/asr_adversarial_attacks.pdf\")\n",
    "plot_dir.parent.mkdir(exist_ok=True, parents=True)\n",
    "plt.savefig(plot_dir, dpi = 350)\n",
    "plt.savefig(plot_dir)\n",
    "plt.show()"
   ]
  },
  {
   "cell_type": "code",
   "execution_count": null,
   "metadata": {},
   "outputs": [],
   "source": [
    "plt.figure(figsize=(10,3))\n",
    "# g = sns.catplot(data=df_total, col=\"Dataset\", x=\"Attack\", y=\"ASR\", \n",
    "#                 hue=\"Access\", hue_order=['White-box', 'Black-box'], \n",
    "#                 kind='bar', aspect=1.25, height=2, ci=None)\n",
    "\n",
    "g = sns.catplot(data=df_total, col=\"Dataset\", y=\"Attack\", x=\"L2 Norm\", \n",
    "            hue=\"Access\", hue_order=['White-box', 'Black-box'], \n",
    "            kind='bar', aspect=0.75, height=3, errorbar=None, \n",
    "            # palette={'White-box': 'gray', 'Black-box': 'black'})  # Define colors for each hue\n",
    "            palette={'White-box': 'darkblue', 'Black-box': 'lightblue'})\n",
    "            # palette={'White-box': 'lightcoral', 'Black-box': 'darkred'})  # Dark and light red shades\n",
    "\n",
    "# Add a dark boundary to the bars\n",
    "for ax in g.axes.flat:  # Iterate over each subplot\n",
    "    for patch in ax.patches:  # Iterate over each bar\n",
    "        patch.set_edgecolor('black')  # Set the boundary color\n",
    "        patch.set_linewidth(0.50)      # Set the boundary thickness\n",
    "\n",
    "# Add horizontal lines\n",
    "for ax in g.axes.flat:  # Iterate over each subplot\n",
    "    ax.yaxis.grid(True)  # Enable horizontal grid lines\n",
    "    # ax.axhline(0, color='black', linewidth=0.25)  # Optionally add a line at y=0 (x-axis)\n",
    "\n",
    "\n",
    "g.set_axis_labels(\"L2 Norm\", \"Attack\")  # Customize axis labels if needed\n",
    "# g.despine(left=True)  # Remove the left spine\n",
    "g.set_titles(\"{col_name}\")  # Optional: Title formatting for columns\n",
    "# g.map(plt.grid, True)  # Enable gridlines\n",
    "\n",
    "\n",
    "# plt.tight_layout()\n",
    "# plt.savefig(f\"../artifacts/plots/norm_adversarial_attacks.jpg\", dpi = 350)\n",
    "# plt.savefig(f\"../artifacts/plots/norm_adversarial_attacks.pdf\")\n",
    "plot_dir = Path(f\"../artifacts/plots/norm_adversarial_attacks.pdf\")\n",
    "plot_dir.parent.mkdir(exist_ok=True, parents=True)\n",
    "plt.savefig(plot_dir, dpi = 350)\n",
    "plt.savefig(plot_dir)\n",
    "plt.show()"
   ]
  }
 ],
 "metadata": {
  "kernelspec": {
   "display_name": "noisec",
   "language": "python",
   "name": "python3"
  },
  "language_info": {
   "codemirror_mode": {
    "name": "ipython",
    "version": 3
   },
   "file_extension": ".py",
   "mimetype": "text/x-python",
   "name": "python",
   "nbconvert_exporter": "python",
   "pygments_lexer": "ipython3",
   "version": "3.10.16"
  }
 },
 "nbformat": 4,
 "nbformat_minor": 2
}
